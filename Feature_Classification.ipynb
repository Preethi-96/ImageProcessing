{
  "nbformat": 4,
  "nbformat_minor": 0,
  "metadata": {
    "colab": {
      "name": "Feature_Classification.ipynb",
      "provenance": [],
      "authorship_tag": "ABX9TyMGWLcoTICA78Tc/Ob0nGDT",
      "include_colab_link": true
    },
    "kernelspec": {
      "name": "python3",
      "display_name": "Python 3"
    }
  },
  "cells": [
    {
      "cell_type": "markdown",
      "metadata": {
        "id": "view-in-github",
        "colab_type": "text"
      },
      "source": [
        "<a href=\"https://colab.research.google.com/github/Preethi-96/ImageProcessing/blob/master/Feature_Classification.ipynb\" target=\"_parent\"><img src=\"https://colab.research.google.com/assets/colab-badge.svg\" alt=\"Open In Colab\"/></a>"
      ]
    },
    {
      "cell_type": "code",
      "metadata": {
        "id": "7wBlnMKScKAD",
        "colab_type": "code",
        "colab": {
          "base_uri": "https://localhost:8080/",
          "height": 34
        },
        "outputId": "ad2dc461-8582-4e67-90f9-c9323c2cc7b6"
      },
      "source": [
        "from google.colab import drive\n",
        "drive.mount('/content/drive')"
      ],
      "execution_count": 125,
      "outputs": [
        {
          "output_type": "stream",
          "text": [
            "Drive already mounted at /content/drive; to attempt to forcibly remount, call drive.mount(\"/content/drive\", force_remount=True).\n"
          ],
          "name": "stdout"
        }
      ]
    },
    {
      "cell_type": "code",
      "metadata": {
        "id": "W5PCf5oxwu7n",
        "colab_type": "code",
        "colab": {
          "base_uri": "https://localhost:8080/",
          "height": 158
        },
        "outputId": "ae5a827e-cbfb-40d6-cae6-dbf0d6608e2d"
      },
      "source": [
        "import pandas as pd\n",
        "import os\n",
        "os.chdir('/content/drive/My Drive/')\n",
        "\n",
        "fp_tr=pd.read_csv('Welding_Data_train.csv')\n",
        "print(fp_tr.head())\n",
        "\n",
        "x_train = fp_tr[['X-Coordinate',\t'Y-Coordinate',\t'Weld_Area']]\n",
        "y_train=fp_tr['Laser_Power']\n"
      ],
      "execution_count": 126,
      "outputs": [
        {
          "output_type": "stream",
          "text": [
            "   Unnamed: 0   Image  ...  Laser_Power                                 Image_Path\n",
            "0           0  19.png  ...            1  /content/drive/My Drive/train/Dat1/19.png\n",
            "1           1  20.png  ...            1  /content/drive/My Drive/train/Dat1/20.png\n",
            "2           2  21.png  ...            1  /content/drive/My Drive/train/Dat1/21.png\n",
            "3           3  22.png  ...            1  /content/drive/My Drive/train/Dat1/22.png\n",
            "4           4  23.png  ...            1  /content/drive/My Drive/train/Dat1/23.png\n",
            "\n",
            "[5 rows x 7 columns]\n"
          ],
          "name": "stdout"
        }
      ]
    },
    {
      "cell_type": "code",
      "metadata": {
        "id": "USQN1F7qX-Cd",
        "colab_type": "code",
        "colab": {
          "base_uri": "https://localhost:8080/",
          "height": 70
        },
        "outputId": "d9b21e85-4421-4f63-d85f-776c07fce200"
      },
      "source": [
        "from sklearn.neighbors import KNeighborsClassifier\n",
        "from sklearn.metrics import accuracy_score\n",
        "from sklearn.metrics import classification_report\n",
        "\n",
        "model=KNeighborsClassifier()\n",
        "model.fit(x_train,y_train)"
      ],
      "execution_count": 127,
      "outputs": [
        {
          "output_type": "execute_result",
          "data": {
            "text/plain": [
              "KNeighborsClassifier(algorithm='auto', leaf_size=30, metric='minkowski',\n",
              "                     metric_params=None, n_jobs=None, n_neighbors=5, p=2,\n",
              "                     weights='uniform')"
            ]
          },
          "metadata": {
            "tags": []
          },
          "execution_count": 127
        }
      ]
    },
    {
      "cell_type": "code",
      "metadata": {
        "id": "-3OTY99RZDD4",
        "colab_type": "code",
        "colab": {
          "base_uri": "https://localhost:8080/",
          "height": 283
        },
        "outputId": "b75c796b-0640-408a-e936-7475228bdb43"
      },
      "source": [
        "fp_ts=pd.read_csv('Welding_Data_test.csv')\n",
        "x_test=fp_ts[['X-Coordinate',\t'Y-Coordinate',\t'Weld_Area']]\n",
        "y_test=fp_ts['Laser_Power']\n",
        "\n",
        "predictions=model.predict(x_test)\n",
        "print(predictions)\n",
        "print(classification_report(predictions,y_test))\n",
        "print(accuracy_score(predictions,y_test))"
      ],
      "execution_count": 128,
      "outputs": [
        {
          "output_type": "stream",
          "text": [
            "[1 1 1 1 1 1 1 1 1 0 1 1 1 1 1 1 1 1 1 1 1 1 1 1 1 1 1 1 1 1 1 1 1 1 1 1 1\n",
            " 1 1 1 1 1 1 1 1 1 1 1 1 1 1 1 1 1 1 1 1 1 1 1 1 1 1 1 1 1 1 1 1 1 1 1 1 1\n",
            " 1 1 1 1 1 1 1 1 1 1 1 1 1 1 1 1 1 1 1 1 1 1 1 1 1 1 1 1 1 1 1 1 1 1 1 1 1\n",
            " 1 1 1 1 1 1 1 1 1 1 1 1 1 1 1 1 1 1 1 1 1 1 1 1 1 1 1 1 1 1 1 1 1 1 1 1 1\n",
            " 1 1 1 1 1 1 1 1 1 1 1 1 1 1 1 1 1 1 1 1 1 1 1 1 1 1 1 1 1 1 1]\n",
            "              precision    recall  f1-score   support\n",
            "\n",
            "           0       0.00      0.00      0.00         1\n",
            "           1       0.99      0.53      0.69       178\n",
            "\n",
            "    accuracy                           0.53       179\n",
            "   macro avg       0.49      0.26      0.34       179\n",
            "weighted avg       0.98      0.53      0.68       179\n",
            "\n",
            "0.5251396648044693\n"
          ],
          "name": "stdout"
        }
      ]
    },
    {
      "cell_type": "code",
      "metadata": {
        "id": "Bs3tbAEaTsWw",
        "colab_type": "code",
        "colab": {}
      },
      "source": [
        "from numpy import mean\n",
        "from numpy import std\n",
        "from numpy import dstack\n",
        "from pandas import read_csv\n",
        "from matplotlib import pyplot\n",
        "from keras.models import Sequential\n",
        "from keras.layers import Dense\n",
        "from keras.layers import Flatten\n",
        "from keras.layers import Dropout\n",
        "from keras.layers.convolutional import Conv1D\n",
        "from keras.layers.convolutional import MaxPooling1D"
      ],
      "execution_count": 129,
      "outputs": []
    },
    {
      "cell_type": "code",
      "metadata": {
        "id": "iNL6UK3XUEB0",
        "colab_type": "code",
        "colab": {
          "base_uri": "https://localhost:8080/",
          "height": 34
        },
        "outputId": "a5ebe3a4-93a8-4e9f-e5af-5174657e08d9"
      },
      "source": [
        "import numpy as np\n",
        "x_train=np.asarray(x_train)\n",
        "x_test=np.asarray(x_test)\n",
        "y_train=np.asarray(y_train)\n",
        "print(np.shape(x_train))\n",
        "x_train=np.expand_dims(np.random.normal(size=(400, 3)),axis=-1)\n",
        "y_train=np.reshape(y_train,(400,1))\n",
        "n_timesteps, n_features, n_outputs = x_train.shape[0], x_train.shape[1], y_train.shape[1]\n",
        "\n",
        "model=Sequential()\n",
        "model = Sequential()\n",
        "input_shape=(n_features,1)\n",
        "model.add(Conv1D(filters=64, kernel_size=1, activation='relu', input_shape=input_shape))\n",
        "model.add(Conv1D(filters=64, kernel_size=1, activation='relu'))\n",
        "model.add(Dropout(0.5))\n",
        "model.add(MaxPooling1D(pool_size=1))\n",
        "model.add(Flatten())\n",
        "model.add(Dense(2, activation='relu'))\n",
        "model.add(Dense(3, activation='softmax'))\n",
        "model.compile(loss='sparse_categorical_crossentropy', optimizer='adam', metrics=['accuracy'])"
      ],
      "execution_count": 130,
      "outputs": [
        {
          "output_type": "stream",
          "text": [
            "(400, 3)\n"
          ],
          "name": "stdout"
        }
      ]
    },
    {
      "cell_type": "code",
      "metadata": {
        "id": "G2dwWW2zYgHb",
        "colab_type": "code",
        "colab": {
          "base_uri": "https://localhost:8080/",
          "height": 34
        },
        "outputId": "da964738-7b96-49a7-87cf-7d9b38e98043"
      },
      "source": [
        "verbose=0\n",
        "epochs=10\n",
        "batch_size=32\n",
        "x_test=np.asarray(x_test)\n",
        "y_test=np.asarray(y_test)\n",
        "x_test=np.expand_dims(np.random.normal(size=(x_test.shape[0], x_test.shape[1])),axis=-1)\n",
        "y_test=np.reshape(y_test,(y_test.shape[0],1))\n",
        "model.fit(x_train,y_train, verbose=verbose, epochs=epochs, batch_size=batch_size)\n",
        "predict=model.predict(x_test)\n",
        "_, accuracy = model.evaluate(x_test, y_test, batch_size=batch_size, verbose=0)\n",
        "print(accuracy)"
      ],
      "execution_count": 131,
      "outputs": [
        {
          "output_type": "stream",
          "text": [
            "0.5307262539863586\n"
          ],
          "name": "stdout"
        }
      ]
    }
  ]
}