{
  "nbformat": 4,
  "nbformat_minor": 0,
  "metadata": {
    "colab": {
      "name": "Classification_vgg16.ipynb",
      "provenance": [],
      "authorship_tag": "ABX9TyPgi9XQJhR1HpYcHjvBw/AQ",
      "include_colab_link": true
    },
    "kernelspec": {
      "name": "python3",
      "display_name": "Python 3"
    }
  },
  "cells": [
    {
      "cell_type": "markdown",
      "metadata": {
        "id": "view-in-github",
        "colab_type": "text"
      },
      "source": [
        "<a href=\"https://colab.research.google.com/github/Preethi-96/ImageProcessing/blob/master/Classification_vgg16.ipynb\" target=\"_parent\"><img src=\"https://colab.research.google.com/assets/colab-badge.svg\" alt=\"Open In Colab\"/></a>"
      ]
    },
    {
      "cell_type": "code",
      "metadata": {
        "id": "i-aCIi12MWs0",
        "colab_type": "code",
        "colab": {
          "base_uri": "https://localhost:8080/",
          "height": 34
        },
        "outputId": "dd4e8428-19e8-4251-c529-9105b90926af"
      },
      "source": [
        "from keras.models import Sequential\n",
        "from keras.layers import Conv2D, MaxPooling2D\n",
        "from keras.layers import Activation, Dropout, Flatten, Dense\n",
        "from PIL import Image\n",
        "import numpy as np\n",
        "import cv2"
      ],
      "execution_count": 1,
      "outputs": [
        {
          "output_type": "stream",
          "text": [
            "Using TensorFlow backend.\n"
          ],
          "name": "stderr"
        }
      ]
    },
    {
      "cell_type": "code",
      "metadata": {
        "id": "4rLp5fSiM3V1",
        "colab_type": "code",
        "colab": {
          "base_uri": "https://localhost:8080/",
          "height": 51
        },
        "outputId": "84b6d91e-3ff3-4a96-8dae-a8077b57f5ec"
      },
      "source": [
        "from keras.applications import vgg16\n",
        "\n",
        "vgg_layers=vgg16.VGG16(weights='imagenet', include_top=False, input_shape=(480, 640, 3))\n",
        "\n",
        "for layer in vgg_layers.layers[:]:\n",
        "  layer.trainable = False\n",
        "\n",
        "\n"
      ],
      "execution_count": 2,
      "outputs": [
        {
          "output_type": "stream",
          "text": [
            "Downloading data from https://github.com/fchollet/deep-learning-models/releases/download/v0.1/vgg16_weights_tf_dim_ordering_tf_kernels_notop.h5\n",
            "58892288/58889256 [==============================] - 1s 0us/step\n"
          ],
          "name": "stdout"
        }
      ]
    },
    {
      "cell_type": "code",
      "metadata": {
        "id": "twBl_QLIPDYv",
        "colab_type": "code",
        "colab": {
          "base_uri": "https://localhost:8080/",
          "height": 105
        },
        "outputId": "6158ae60-0a06-4538-bfd2-5be3b6066243"
      },
      "source": [
        "model=Sequential()\n",
        "\n",
        "model.add(vgg_layers)\n",
        "\n",
        "model.add(Conv2D(32,(5,5),input_shape=(480,640,3),))\n",
        "model.add(Activation('relu'))\n",
        "model.add(MaxPooling2D(pool_size=(2, 2),dim_ordering='tf'))\n",
        "\n",
        "# model.add(Conv2D(32,(3,3),input_shape=(480,640,3)))\n",
        "# model.add(Activation('relu'))\n",
        "# model.add(MaxPooling2D(pool_size=(2, 2),dim_ordering='tf'))\n",
        "\n",
        "model.add(Conv2D(64,(3,3),input_shape=(480,640,3)))\n",
        "model.add(Activation('relu'))\n",
        "model.add(MaxPooling2D(pool_size=(2, 2),dim_ordering='tf'))\n",
        "\n",
        "model.add(Dense(64))\n",
        "model.add(Flatten())\n",
        "model.add(Dense(2))\n",
        "model.add(Dropout(0.5))\n",
        "model.add(Activation('sigmoid'))"
      ],
      "execution_count": 3,
      "outputs": [
        {
          "output_type": "stream",
          "text": [
            "/usr/local/lib/python3.6/dist-packages/ipykernel_launcher.py:7: UserWarning: Update your `MaxPooling2D` call to the Keras 2 API: `MaxPooling2D(pool_size=(2, 2), data_format=\"channels_last\")`\n",
            "  import sys\n",
            "/usr/local/lib/python3.6/dist-packages/ipykernel_launcher.py:15: UserWarning: Update your `MaxPooling2D` call to the Keras 2 API: `MaxPooling2D(pool_size=(2, 2), data_format=\"channels_last\")`\n",
            "  from ipykernel import kernelapp as app\n"
          ],
          "name": "stderr"
        }
      ]
    },
    {
      "cell_type": "code",
      "metadata": {
        "id": "PNXWfN0cx9oM",
        "colab_type": "code",
        "colab": {
          "base_uri": "https://localhost:8080/",
          "height": 122
        },
        "outputId": "cb209589-a568-44aa-8c53-689721d7a4a0"
      },
      "source": [
        "from google.colab import drive\n",
        "drive.mount('/content/drive')"
      ],
      "execution_count": 4,
      "outputs": [
        {
          "output_type": "stream",
          "text": [
            "Go to this URL in a browser: https://accounts.google.com/o/oauth2/auth?client_id=947318989803-6bn6qk8qdgf4n4g3pfee6491hc0brc4i.apps.googleusercontent.com&redirect_uri=urn%3aietf%3awg%3aoauth%3a2.0%3aoob&response_type=code&scope=email%20https%3a%2f%2fwww.googleapis.com%2fauth%2fdocs.test%20https%3a%2f%2fwww.googleapis.com%2fauth%2fdrive%20https%3a%2f%2fwww.googleapis.com%2fauth%2fdrive.photos.readonly%20https%3a%2f%2fwww.googleapis.com%2fauth%2fpeopleapi.readonly\n",
            "\n",
            "Enter your authorization code:\n",
            "··········\n",
            "Mounted at /content/drive\n"
          ],
          "name": "stdout"
        }
      ]
    },
    {
      "cell_type": "code",
      "metadata": {
        "id": "iIowZqajyG0Z",
        "colab_type": "code",
        "colab": {
          "base_uri": "https://localhost:8080/",
          "height": 34
        },
        "outputId": "33a8b2a0-2277-406a-e1cc-ac2e8c3b7661"
      },
      "source": [
        "import os\n",
        "os.chdir('/content/drive/My Drive')\n",
        "Filenames=os.listdir('/content/drive/My Drive/train')\n",
        "print(Filenames)\n"
      ],
      "execution_count": 5,
      "outputs": [
        {
          "output_type": "stream",
          "text": [
            "['Dat3', 'Dat1']\n"
          ],
          "name": "stdout"
        }
      ]
    },
    {
      "cell_type": "code",
      "metadata": {
        "id": "fmtPNSXbx99H",
        "colab_type": "code",
        "colab": {
          "base_uri": "https://localhost:8080/",
          "height": 68
        },
        "outputId": "fe7791d4-916d-459b-a8b7-6fffa02ca47c"
      },
      "source": [
        "import os\n",
        "#os.chdir(r'D:\\Laser Polishing')\n",
        "\n",
        "batch_size=10\n",
        "\n",
        "train_path = r'/content/drive/My Drive/train'\n",
        "valid_path = r'/content/drive/My Drive/valid'\n",
        "test_path = r'/content/drive/My Drive/test'\n",
        "\n",
        "from tensorflow.keras.preprocessing.image import ImageDataGenerator\n",
        "import tensorflow as tf\n",
        "\n",
        "#testgen = ImageDataGenerator()\n",
        "\n",
        "\n",
        "train_batches = ImageDataGenerator(rescale=1/.255).flow_from_directory(directory=r'/content/drive/My Drive/train', target_size=(480,640), classes=['Dat1', 'Dat3'], class_mode='categorical', batch_size=10)\n",
        "valid_batches = ImageDataGenerator(rescale=1/.255).flow_from_directory(directory=r'/content/drive/My Drive/valid', target_size=(480,640), classes=['Dat1', 'Dat3'], class_mode='categorical', batch_size=10)\n",
        "test_batches = ImageDataGenerator(rescale=1/.255).flow_from_directory(directory=r'/content/drive/My Drive/test', target_size=(480,640), classes=['Dat1', 'Dat3'], class_mode='categorical', batch_size=10, shuffle=False)\n"
      ],
      "execution_count": 6,
      "outputs": [
        {
          "output_type": "stream",
          "text": [
            "Found 802 images belonging to 2 classes.\n",
            "Found 202 images belonging to 2 classes.\n",
            "Found 202 images belonging to 2 classes.\n"
          ],
          "name": "stdout"
        }
      ]
    },
    {
      "cell_type": "code",
      "metadata": {
        "id": "EaxCp01Sx-Km",
        "colab_type": "code",
        "colab": {
          "base_uri": "https://localhost:8080/",
          "height": 743
        },
        "outputId": "33c1a36f-9173-41aa-f932-69527038f4f9"
      },
      "source": [
        " import keras\n",
        " \n",
        " model.compile(loss='categorical_crossentropy',\n",
        "               optimizer='rmsprop',\n",
        "               metrics=['accuracy'])\n",
        "batch_size=10\n",
        "m=model.fit_generator(train_batches, steps_per_epoch=200//batch_size,epochs=5,validation_data=valid_batches,validation_steps=80//batch_size)\n",
        "# callbacks=[\n",
        "#  keras.callbacks.EarlyStopping(patience=8, verbose=1, restore_best_weights=True),\n",
        "#  keras.callbacks.ReduceLROnPlateau(factor=.5, patience=3, verbose=1),\n",
        "#  ])\n",
        "\n",
        "import matplotlib.pyplot as plt\n",
        "def plot_history(history):\n",
        "    loss_list = [s for s in history.history.keys() if 'loss' in s and 'val' not in s]\n",
        "    val_loss_list = [s for s in history.history.keys() if 'loss' in s and 'val' in s]\n",
        "    acc_list = [s for s in history.history.keys() if 'acc' in s and 'val' not in s]\n",
        "    val_acc_list = [s for s in history.history.keys() if 'acc' in s and 'val' in s]\n",
        "    \n",
        "    if len(loss_list) == 0:\n",
        "        print('Loss is missing in history')\n",
        "        return \n",
        "    \n",
        "    ## As loss always exists\n",
        "    epochs = range(1,len(history.history[loss_list[0]]) + 1)\n",
        "    \n",
        "    ## Loss\n",
        "    plt.figure(1)\n",
        "    for l in loss_list:\n",
        "        plt.plot(epochs, history.history[l], 'b', label='Training loss (' + str(str(format(history.history[l][-1],'.5f'))+')'))\n",
        "    for l in val_loss_list:\n",
        "        plt.plot(epochs, history.history[l], 'g', label='Validation loss (' + str(str(format(history.history[l][-1],'.5f'))+')'))\n",
        "    \n",
        "    #plt.xlim(xmin=0)\n",
        "    plt.ylim(ymin=0)\n",
        "    plt.title('Loss')\n",
        "    plt.xlabel('Epochs')\n",
        "    plt.ylabel('Loss')\n",
        "    plt.legend()\n",
        "    \n",
        "    ## Accuracy\n",
        "    plt.figure(2)\n",
        "    for l in acc_list:\n",
        "        plt.plot(epochs, history.history[l], 'b', label='Training accuracy (' + str(format(history.history[l][-1],'.5f'))+')')\n",
        "    for l in val_acc_list:    \n",
        "        plt.plot(epochs, history.history[l], 'g', label='Validation accuracy (' + str(format(history.history[l][-1],'.5f'))+')')\n",
        "\n",
        "    #plt.ylim(0, 1)    \n",
        "    plt.title('Accuracy')\n",
        "    plt.xlabel('Epochs')\n",
        "    plt.ylabel('Accuracy')\n",
        "    plt.legend()\n",
        "    plt.show()\n",
        "#import above function and pass the parameter used while training    \n",
        "plot_history(m)    "
      ],
      "execution_count": 7,
      "outputs": [
        {
          "output_type": "stream",
          "text": [
            "Epoch 1/5\n",
            "20/20 [==============================] - 860s 43s/step - loss: 4.0803 - accuracy: 0.5350 - val_loss: 9.6709 - val_accuracy: 0.4750\n",
            "Epoch 2/5\n",
            "20/20 [==============================] - 822s 41s/step - loss: 4.6600 - accuracy: 0.4583 - val_loss: 9.6709 - val_accuracy: 0.5500\n",
            "Epoch 3/5\n",
            "20/20 [==============================] - 826s 41s/step - loss: 4.6432 - accuracy: 0.4950 - val_loss: 9.6709 - val_accuracy: 0.4722\n",
            "Epoch 4/5\n",
            "20/20 [==============================] - 846s 42s/step - loss: 4.5156 - accuracy: 0.5250 - val_loss: 6.4472 - val_accuracy: 0.5000\n",
            "Epoch 5/5\n",
            "20/20 [==============================] - 847s 42s/step - loss: 4.2189 - accuracy: 0.5400 - val_loss: 8.0590 - val_accuracy: 0.5000\n"
          ],
          "name": "stdout"
        },
        {
          "output_type": "display_data",
          "data": {
            "image/png": "[encoded data removed]",
            "text/plain": [
              "<Figure size 432x288 with 1 Axes>"
            ]
          },
          "metadata": {
            "tags": [],
            "needs_background": "light"
          }
        },
        {
          "output_type": "display_data",
          "data": {
            "image/png": "[encoded data removed]",
            "text/plain": [
              "<Figure size 432x288 with 1 Axes>"
            ]
          },
          "metadata": {
            "tags": [],
            "needs_background": "light"
          }
        }
      ]
    },
    {
      "cell_type": "code",
      "metadata": {
        "id": "7QuZLXt7zMGO",
        "colab_type": "code",
        "colab": {
          "base_uri": "https://localhost:8080/",
          "height": 34
        },
        "outputId": "0b7dadf4-16cc-42df-f756-4198d316928b"
      },
      "source": [
        "print(len(test_batches))\n",
        "predictions=model.predict_generator(test_batches, steps=80)"
      ],
      "execution_count": 8,
      "outputs": [
        {
          "output_type": "stream",
          "text": [
            "21\n"
          ],
          "name": "stdout"
        }
      ]
    },
    {
      "cell_type": "code",
      "metadata": {
        "id": "CxOJ1akkzVfx",
        "colab_type": "code",
        "colab": {
          "base_uri": "https://localhost:8080/",
          "height": 170
        },
        "outputId": "1ebcbd76-f88c-410d-c270-51eeb9d86170"
      },
      "source": [
        "print(predictions)\n",
        "loss,accuracy = model.evaluate(test_batches,verbose=1)\n",
        "print(\"Test: accuracy = %f  ;  loss = %f\" % (accuracy, loss))\n",
        "predicted_class_indices = np.argmax(predictions,axis=1)"
      ],
      "execution_count": 9,
      "outputs": [
        {
          "output_type": "stream",
          "text": [
            "[[1. 0.]\n",
            " [1. 0.]\n",
            " [1. 0.]\n",
            " ...\n",
            " [1. 0.]\n",
            " [1. 0.]\n",
            " [1. 0.]]\n",
            "21/21 [==============================] - 615s 29s/step\n",
            "Test: accuracy = 0.500000  ;  loss = 16.118095\n"
          ],
          "name": "stdout"
        }
      ]
    }
  ]
}