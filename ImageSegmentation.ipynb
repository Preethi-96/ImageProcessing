{
  "nbformat": 4,
  "nbformat_minor": 0,
  "metadata": {
    "colab": {
      "name": "Contouring.ipynb",
      "provenance": [],
      "collapsed_sections": [],
      "authorship_tag": "ABX9TyOkaLVl23Yv/BWwL2ywaPNa",
      "include_colab_link": true
    },
    "kernelspec": {
      "name": "python3",
      "display_name": "Python 3"
    }
  },
  "cells": [
    {
      "cell_type": "markdown",
      "metadata": {
        "id": "view-in-github",
        "colab_type": "text"
      },
      "source": [
        "<a href=\"https://colab.research.google.com/github/Preethi-96/ImageProcessing/blob/master/ImageSegmentation.ipynb\" target=\"_parent\"><img src=\"https://colab.research.google.com/assets/colab-badge.svg\" alt=\"Open In Colab\"/></a>"
      ]
    },
    {
      "cell_type": "code",
      "metadata": {
        "id": "2gM4v46_AOvS",
        "colab_type": "code",
        "colab": {
          "base_uri": "https://localhost:8080/",
          "height": 125
        },
        "outputId": "9ecca5e1-6590-4621-ca8c-a95f9d02a950"
      },
      "source": [
        "from google.colab import drive\n",
        "drive.mount('/content/drive')"
      ],
      "execution_count": 1,
      "outputs": [
        {
          "output_type": "stream",
          "text": [
            "Go to this URL in a browser: https://accounts.google.com/o/oauth2/auth?client_id=947318989803-6bn6qk8qdgf4n4g3pfee6491hc0brc4i.apps.googleusercontent.com&redirect_uri=urn%3aietf%3awg%3aoauth%3a2.0%3aoob&response_type=code&scope=email%20https%3a%2f%2fwww.googleapis.com%2fauth%2fdocs.test%20https%3a%2f%2fwww.googleapis.com%2fauth%2fdrive%20https%3a%2f%2fwww.googleapis.com%2fauth%2fdrive.photos.readonly%20https%3a%2f%2fwww.googleapis.com%2fauth%2fpeopleapi.readonly\n",
            "\n",
            "Enter your authorization code:\n",
            "··········\n",
            "Mounted at /content/drive\n"
          ],
          "name": "stdout"
        }
      ]
    },
    {
      "cell_type": "code",
      "metadata": {
        "id": "HvU5DPvqAcod",
        "colab_type": "code",
        "colab": {
          "base_uri": "https://localhost:8080/",
          "height": 496
        },
        "outputId": "8296ced7-b277-45b5-dcf6-929031bdcdef"
      },
      "source": [
        "import os\n",
        "os.chdir('/content/drive/My Drive/train/Dat1')\n",
        "\n",
        "from PIL import Image\n",
        "from IPython.display import Image as Im, display\n",
        "\n",
        "display(Im('390.png'))"
      ],
      "execution_count": 21,
      "outputs": [
        {
          "output_type": "display_data",
          "data": {
            "image/png": "[encoded data removed]",
            "text/plain": [
              "<IPython.core.display.Image object>"
            ]
          },
          "metadata": {
            "tags": []
          }
        }
      ]
    },
    {
      "cell_type": "code",
      "metadata": {
        "id": "qvZYGZD1JcHo",
        "colab_type": "code",
        "colab": {}
      },
      "source": [
        "import pandas as pd\n",
        "fp=pd.DataFrame(columns=['Image', 'X-Coordinate', 'Y-Coordinate','Weld_Area' 'Laser_Power'])\n",
        "\n",
        "Images=[]\n",
        "X_Cor=[]\n",
        "Y_Cor=[]\n",
        "Label=[]\n",
        "W_Area=[]\n",
        "Img_Path=[]"
      ],
      "execution_count": 22,
      "outputs": []
    },
    {
      "cell_type": "code",
      "metadata": {
        "id": "FjZPLK_u4h2x",
        "colab_type": "code",
        "colab": {
          "base_uri": "https://localhost:8080/",
          "height": 268
        },
        "outputId": "45273049-d717-44ab-c3fb-5606caee8822"
      },
      "source": [
        "import numpy as np\n",
        "import cv2\n",
        "import matplotlib.pyplot as plt\n",
        "import skimage.segmentation as seg\n",
        "import skimage.color as color\n",
        "import os\n",
        "os.chdir('/content/drive/My Drive/train/Dat1')\n",
        "files=os.listdir('/content/drive/My Drive/train/Dat1')\n",
        "\n",
        "\n",
        "for f in files:\n",
        " if len(Images)<200:\n",
        "   \n",
        "\n",
        "    img = cv2.imread(f,1)\n",
        "  \n",
        "    Images.append(f)\n",
        "    hsv = cv2.cvtColor(img, cv2.COLOR_BGR2HSV)\n",
        "    lower_blue = np.array([110,50,50])\n",
        "    upper_blue = np.array([130,255,255])\n",
        "    mask = cv2.inRange(hsv, lower_blue, upper_blue)\n",
        "    res = cv2.bitwise_and(hsv,hsv, mask= mask)\n",
        "    #plt.imshow(mask)\n",
        "    hsv[mask>0]=([130,255,255])\n",
        "    RGB_again = cv2.cvtColor(hsv, cv2.COLOR_HSV2RGB)\n",
        "    gray = cv2.cvtColor(RGB_again, cv2.COLOR_RGB2GRAY)\n",
        "    #plt.imshow(gray,cmap='gray')\n",
        "    ret, threshold = cv2.threshold(gray, 70, 250, 0)\n",
        "    #plt.imshow(threshold)\n",
        "    contours, hierarchy =  cv2.findContours(threshold,cv2.RETR_TREE,cv2.CHAIN_APPROX_SIMPLE)\n",
        "    cv2.drawContours(img, contours, -1, (0, 0, 255), 3)\n",
        "    plt.imshow(img)\n",
        "    largest_area = 0\n",
        "    largest_contour_index = -1\n",
        "    i = 0\n",
        "    data=[]\n",
        "    areas=[]\n",
        "    ar=0\n",
        "    total_contours = len(contours)\n",
        "    while (i < total_contours ):\n",
        "        area = cv2.contourArea(contours[i])\n",
        "        areas.append(area)\n",
        "        cnt = contours[i]\n",
        "        M = cv2.moments(cnt)\n",
        "        cX = int(M[\"m10\"] / M[\"m00\"])\n",
        "        cY = int(M[\"m01\"] / M[\"m00\"])\n",
        "        if int(area) in range(1000,10000):\n",
        "          data.append([cX,cY])\n",
        "          ar=area\n",
        "        \n",
        "        i+=1\n",
        "       \n",
        "    \n",
        "    if len(data)==1:\n",
        "      \n",
        "      X_Cor.append(data[0][0])\n",
        "      Y_Cor.append(data[0][1])\n",
        "      Label.append('Power_1')\n",
        "      W_Area.append(ar)\n",
        "      Img_Path.append(os.getcwd()+'/'+f)\n",
        "    else:\n",
        "      \n",
        "      Images.pop()\n",
        "\n",
        "    \n",
        "\n",
        "\n",
        "    # x, y = zip(*data)\n",
        "    # print(data)\n",
        "    # plt.imshow(img)\n",
        "    # plt.scatter(x, y)\n",
        "    # plt.show()\n"
      ],
      "execution_count": 23,
      "outputs": [
        {
          "output_type": "display_data",
          "data": {
            "image/png": "[encoded data removed]",
            "text/plain": [
              "<Figure size 432x288 with 1 Axes>"
            ]
          },
          "metadata": {
            "tags": [],
            "needs_background": "light"
          }
        }
      ]
    },
    {
      "cell_type": "code",
      "metadata": {
        "id": "3CXm4NZVA0o5",
        "colab_type": "code",
        "colab": {
          "base_uri": "https://localhost:8080/",
          "height": 268
        },
        "outputId": "fb677c8a-0bf3-45ac-9c32-bedc05f74ebf"
      },
      "source": [
        "import numpy as np\n",
        "import cv2\n",
        "import matplotlib.pyplot as plt\n",
        "import skimage.segmentation as seg\n",
        "import skimage.color as color\n",
        "import os\n",
        "os.chdir('/content/drive/My Drive/train/Dat3')\n",
        "files=os.listdir('/content/drive/My Drive/train/Dat3')\n",
        "\n",
        "for f in files:\n",
        "  if len(Images)<400:\n",
        "\n",
        "\n",
        "    img = cv2.imread(f,1)\n",
        "    Images.append(f)\n",
        "    hsv = cv2.cvtColor(img, cv2.COLOR_BGR2HSV)\n",
        "    lower_blue = np.array([20,20,100])\n",
        "    upper_blue = np.array([130,250,200])\n",
        "    mask = cv2.inRange(hsv, lower_blue, upper_blue)\n",
        "    res = cv2.bitwise_and(hsv,hsv, mask= mask)\n",
        "    hsv[mask>0]=([130,250,200])\n",
        "    plt.imshow(hsv)\n",
        "    RGB_again = cv2.cvtColor(hsv, cv2.COLOR_HSV2RGB)\n",
        "    gray = cv2.cvtColor(RGB_again, cv2.COLOR_RGB2GRAY)\n",
        "    ret, threshold = cv2.threshold(gray, 41, 250, 0)\n",
        "    plt.imshow(threshold)\n",
        "    contours, hierarchy =  cv2.findContours(threshold,cv2.RETR_TREE,cv2.CHAIN_APPROX_SIMPLE)\n",
        "    cv2.drawContours(img, contours, -1, (0, 0, 255), 3)\n",
        "    largest_area = 0\n",
        "    largest_contour_index = -1\n",
        "    i = 0\n",
        "    data=[]\n",
        "    areas=[]\n",
        "    total_contours = len(contours)\n",
        "    while (i < total_contours ):\n",
        "        area = cv2.contourArea(contours[i])\n",
        "        areas.append(area)\n",
        "        cnt = contours[i]\n",
        "        \n",
        "        M = cv2.moments(cnt)\n",
        "        cX = int(M[\"m10\"] / M[\"m00\"])\n",
        "        cY = int(M[\"m01\"] / M[\"m00\"])\n",
        "        if int(area) in range(1000,10000):\n",
        "          data.append([cX,cY])\n",
        "        i+=1\n",
        "        #print(cX,cY)\n",
        "        \n",
        "    #print(len(data))     \n",
        "    #x, y = zip(*data)\n",
        "    if len(data)==1:\n",
        "      X_Cor.append(data[0][0])\n",
        "      Y_Cor.append(data[0][1])\n",
        "      Label.append('Power_2')\n",
        "      W_Area.append(ar)\n",
        "      Img_Path.append(os.getcwd()+'/'+f)\n",
        "      #print(os.getcwd()+'/'+f)\n",
        "    else:\n",
        "      \n",
        "      Images.pop()\n",
        "    # plt.imshow(img)\n",
        "    # plt.scatter(x, y)\n",
        "    # plt.show()\n"
      ],
      "execution_count": 24,
      "outputs": [
        {
          "output_type": "display_data",
          "data": {
            "image/png": "[encoded data removed]",
            "text/plain": [
              "<Figure size 432x288 with 1 Axes>"
            ]
          },
          "metadata": {
            "tags": [],
            "needs_background": "light"
          }
        }
      ]
    },
    {
      "cell_type": "code",
      "metadata": {
        "id": "wlXxY_YyMws5",
        "colab_type": "code",
        "colab": {
          "base_uri": "https://localhost:8080/",
          "height": 34
        },
        "outputId": "ef00edf5-d921-4cf3-8fa1-696504f64aba"
      },
      "source": [
        "print(len(Label))\n",
        "#Images.pop()"
      ],
      "execution_count": 25,
      "outputs": [
        {
          "output_type": "stream",
          "text": [
            "400\n"
          ],
          "name": "stdout"
        }
      ]
    },
    {
      "cell_type": "code",
      "metadata": {
        "id": "KYneD6zkFPM6",
        "colab_type": "code",
        "colab": {
          "base_uri": "https://localhost:8080/",
          "height": 176
        },
        "outputId": "2d660ce6-286a-4f00-f53c-c5d44b3a30cc"
      },
      "source": [
        "print(len(Label))\n",
        "fp=pd.DataFrame(columns=['Image', 'X-Coordinate', 'Y-Coordinate','Weld_Area','Laser_Power','Image_Path'])\n",
        "\n",
        "#imageid_path_dict = {os.path.splitext(os.path.basename(x))[0]: x\n",
        "                     #for x in glob(os.path.join(base_skin_dir, '*', '*.png'))}\n",
        "\n",
        "fp['Image']=Images\n",
        "fp['X-Coordinate']=X_Cor\n",
        "fp['Y-Coordinate']=Y_Cor\n",
        "fp['Weld_Area']=W_Area\n",
        "fp['Laser_Power']=Label\n",
        "fp['Image_Path']=Img_Path\n",
        "\n",
        "print(fp.head())\n",
        "\n",
        "fp['Laser_Power'] = pd.get_dummies(fp['Laser_Power'])\n",
        "\n",
        "#Preparing train dataset\n",
        "os.chdir('/content/drive/My Drive/')\n",
        "fp.to_csv('Welding_Data_train.csv')"
      ],
      "execution_count": 26,
      "outputs": [
        {
          "output_type": "stream",
          "text": [
            "400\n",
            "    Image  X-Coordinate  ...  Laser_Power                                 Image_Path\n",
            "0  19.png           379  ...      Power_1  /content/drive/My Drive/train/Dat1/19.png\n",
            "1  20.png           378  ...      Power_1  /content/drive/My Drive/train/Dat1/20.png\n",
            "2  21.png           391  ...      Power_1  /content/drive/My Drive/train/Dat1/21.png\n",
            "3  22.png           373  ...      Power_1  /content/drive/My Drive/train/Dat1/22.png\n",
            "4  23.png           385  ...      Power_1  /content/drive/My Drive/train/Dat1/23.png\n",
            "\n",
            "[5 rows x 6 columns]\n"
          ],
          "name": "stdout"
        }
      ]
    },
    {
      "cell_type": "code",
      "metadata": {
        "id": "RY_jkk9vf8tC",
        "colab_type": "code",
        "colab": {
          "base_uri": "https://localhost:8080/",
          "height": 158
        },
        "outputId": "52ca1f90-3971-483a-da90-6a3666e4ce36"
      },
      "source": [
        "fp['Image']=fp['Image_Path'].map(lambda x: np.asarray(Image.open(x).resize((400,400))))\n",
        "print(fp.head())"
      ],
      "execution_count": 8,
      "outputs": [
        {
          "output_type": "stream",
          "text": [
            "                                               Image  ...                                 Image_Path\n",
            "0  [[[255, 255, 255, 255], [255, 255, 255, 255], ...  ...  /content/drive/My Drive/train/Dat1/19.png\n",
            "1  [[[255, 255, 255, 255], [255, 255, 255, 255], ...  ...  /content/drive/My Drive/train/Dat1/20.png\n",
            "2  [[[255, 255, 255, 255], [255, 255, 255, 255], ...  ...  /content/drive/My Drive/train/Dat1/21.png\n",
            "3  [[[255, 255, 255, 255], [255, 255, 255, 255], ...  ...  /content/drive/My Drive/train/Dat1/22.png\n",
            "4  [[[255, 255, 255, 255], [255, 255, 255, 255], ...  ...  /content/drive/My Drive/train/Dat1/23.png\n",
            "\n",
            "[5 rows x 6 columns]\n"
          ],
          "name": "stdout"
        }
      ]
    },
    {
      "cell_type": "code",
      "metadata": {
        "id": "ul1OkgAWgl0g",
        "colab_type": "code",
        "colab": {
          "base_uri": "https://localhost:8080/",
          "height": 52
        },
        "outputId": "5503bb78-6fe7-4c2e-f423-0e85b2bee47b"
      },
      "source": [
        "fp['Image'].map(lambda x: x.shape).value_counts()"
      ],
      "execution_count": 9,
      "outputs": [
        {
          "output_type": "execute_result",
          "data": {
            "text/plain": [
              "(400, 400, 4)    400\n",
              "Name: Image, dtype: int64"
            ]
          },
          "metadata": {
            "tags": []
          },
          "execution_count": 9
        }
      ]
    },
    {
      "cell_type": "code",
      "metadata": {
        "id": "C_ozvnkEG6a3",
        "colab_type": "code",
        "colab": {}
      },
      "source": [
        "#Preparation of data for test dataset\n",
        "\n",
        "import pandas as pd\n",
        "fpt=pd.DataFrame(columns=['Image', 'X-Coordinate', 'Y-Coordinate','Weld_Area' 'Laser_Power'])\n",
        "\n",
        "Images=[]\n",
        "X_Cor=[]\n",
        "Y_Cor=[]\n",
        "Label=[]\n",
        "W_Area=[]\n",
        "Img_Path=[]"
      ],
      "execution_count": 10,
      "outputs": []
    },
    {
      "cell_type": "code",
      "metadata": {
        "id": "YDuFGP5_vpkT",
        "colab_type": "code",
        "colab": {
          "base_uri": "https://localhost:8080/",
          "height": 268
        },
        "outputId": "4a1f04e7-2364-489f-b083-58ed96c7f395"
      },
      "source": [
        "import numpy as np\n",
        "import cv2\n",
        "import matplotlib.pyplot as plt\n",
        "import skimage.segmentation as seg\n",
        "import skimage.color as color\n",
        "import os\n",
        "os.chdir('/content/drive/My Drive/test/Dat1')\n",
        "files=os.listdir('/content/drive/My Drive/test/Dat1')\n",
        "\n",
        "\n",
        "for f in files:\n",
        " if len(Images)<200:\n",
        "   \n",
        "\n",
        "    img = cv2.imread(f,1)\n",
        "  \n",
        "    Images.append(f)\n",
        "    hsv = cv2.cvtColor(img, cv2.COLOR_BGR2HSV)\n",
        "    lower_blue = np.array([110,50,50])\n",
        "    upper_blue = np.array([130,255,255])\n",
        "    mask = cv2.inRange(hsv, lower_blue, upper_blue)\n",
        "    res = cv2.bitwise_and(hsv,hsv, mask= mask)\n",
        "    #plt.imshow(mask)\n",
        "    hsv[mask>0]=([130,255,255])\n",
        "    RGB_again = cv2.cvtColor(hsv, cv2.COLOR_HSV2RGB)\n",
        "    gray = cv2.cvtColor(RGB_again, cv2.COLOR_RGB2GRAY)\n",
        "    #plt.imshow(gray,cmap='gray')\n",
        "    ret, threshold = cv2.threshold(gray, 70, 250, 0)\n",
        "    #plt.imshow(threshold)\n",
        "    contours, hierarchy =  cv2.findContours(threshold,cv2.RETR_TREE,cv2.CHAIN_APPROX_SIMPLE)\n",
        "    cv2.drawContours(img, contours, -1, (0, 0, 255), 3)\n",
        "    plt.imshow(img)\n",
        "    largest_area = 0\n",
        "    largest_contour_index = -1\n",
        "    i = 0\n",
        "    data=[]\n",
        "    areas=[]\n",
        "    ar=0\n",
        "    total_contours = len(contours)\n",
        "    while (i < total_contours ):\n",
        "        area = cv2.contourArea(contours[i])\n",
        "        areas.append(area)\n",
        "        cnt = contours[i]\n",
        "        M = cv2.moments(cnt)\n",
        "        cX = int(M[\"m10\"] / M[\"m00\"])\n",
        "        cY = int(M[\"m01\"] / M[\"m00\"])\n",
        "        if int(area) in range(1000,10000):\n",
        "          data.append([cX,cY])\n",
        "          ar=area\n",
        "        \n",
        "        i+=1\n",
        "       \n",
        "    \n",
        "    if len(data)==1:\n",
        "      \n",
        "      X_Cor.append(data[0][0])\n",
        "      Y_Cor.append(data[0][1])\n",
        "      Label.append('Power_1')\n",
        "      W_Area.append(ar)\n",
        "      Img_Path.append(os.getcwd()+'/'+f)\n",
        "    else:\n",
        "      \n",
        "      Images.pop()\n",
        "\n",
        "    \n",
        "\n",
        "\n",
        "    # x, y = zip(*data)\n",
        "    # print(data)\n",
        "    # plt.imshow(img)\n",
        "    # plt.scatter(x, y)\n",
        "    # plt.show()\n"
      ],
      "execution_count": 11,
      "outputs": [
        {
          "output_type": "display_data",
          "data": {
            "image/png": "[encoded data removed]",
            "text/plain": [
              "<Figure size 432x288 with 1 Axes>"
            ]
          },
          "metadata": {
            "tags": [],
            "needs_background": "light"
          }
        }
      ]
    },
    {
      "cell_type": "code",
      "metadata": {
        "id": "Ev39g2Rsv8Hx",
        "colab_type": "code",
        "colab": {
          "base_uri": "https://localhost:8080/",
          "height": 268
        },
        "outputId": "35a2905f-b16d-407f-c80d-cc20e0e56aae"
      },
      "source": [
        "import numpy as np\n",
        "import cv2\n",
        "import matplotlib.pyplot as plt\n",
        "import skimage.segmentation as seg\n",
        "import skimage.color as color\n",
        "import os\n",
        "os.chdir('/content/drive/My Drive/test/Dat3')\n",
        "files=os.listdir('/content/drive/My Drive/test/Dat3')\n",
        "\n",
        "for f in files:\n",
        "  if len(Images)<400:\n",
        "\n",
        "\n",
        "    img = cv2.imread(f,1)\n",
        "    Images.append(f)\n",
        "    hsv = cv2.cvtColor(img, cv2.COLOR_BGR2HSV)\n",
        "    lower_blue = np.array([20,20,100])\n",
        "    upper_blue = np.array([130,250,200])\n",
        "    mask = cv2.inRange(hsv, lower_blue, upper_blue)\n",
        "    res = cv2.bitwise_and(hsv,hsv, mask= mask)\n",
        "    hsv[mask>0]=([130,250,200])\n",
        "    plt.imshow(hsv)\n",
        "    RGB_again = cv2.cvtColor(hsv, cv2.COLOR_HSV2RGB)\n",
        "    gray = cv2.cvtColor(RGB_again, cv2.COLOR_RGB2GRAY)\n",
        "    ret, threshold = cv2.threshold(gray, 41, 250, 0)\n",
        "    plt.imshow(threshold)\n",
        "    contours, hierarchy =  cv2.findContours(threshold,cv2.RETR_TREE,cv2.CHAIN_APPROX_SIMPLE)\n",
        "    cv2.drawContours(img, contours, -1, (0, 0, 255), 3)\n",
        "    largest_area = 0\n",
        "    largest_contour_index = -1\n",
        "    i = 0\n",
        "    data=[]\n",
        "    areas=[]\n",
        "    total_contours = len(contours)\n",
        "    while (i < total_contours ):\n",
        "        area = cv2.contourArea(contours[i])\n",
        "        areas.append(area)\n",
        "        cnt = contours[i]\n",
        "        \n",
        "        M = cv2.moments(cnt)\n",
        "        cX = int(M[\"m10\"] / M[\"m00\"])\n",
        "        cY = int(M[\"m01\"] / M[\"m00\"])\n",
        "        if int(area) in range(1000,10000):\n",
        "          data.append([cX,cY])\n",
        "        i+=1\n",
        "        #print(cX,cY)\n",
        "        \n",
        "    #print(len(data))     \n",
        "    #x, y = zip(*data)\n",
        "    if len(data)==1:\n",
        "      X_Cor.append(data[0][0])\n",
        "      Y_Cor.append(data[0][1])\n",
        "      Label.append('Power_2')\n",
        "      W_Area.append(ar)\n",
        "      Img_Path.append(os.getcwd()+'/'+f)\n",
        "      #print(os.getcwd()+'/'+f)\n",
        "    else:\n",
        "      \n",
        "      Images.pop()\n",
        "    # plt.imshow(img)\n",
        "    # plt.scatter(x, y)\n",
        "    # plt.show()\n"
      ],
      "execution_count": 12,
      "outputs": [
        {
          "output_type": "display_data",
          "data": {
            "image/png": "[encoded data removed]",
            "text/plain": [
              "<Figure size 432x288 with 1 Axes>"
            ]
          },
          "metadata": {
            "tags": [],
            "needs_background": "light"
          }
        }
      ]
    },
    {
      "cell_type": "code",
      "metadata": {
        "id": "HrWp5k3ewM6N",
        "colab_type": "code",
        "colab": {
          "base_uri": "https://localhost:8080/",
          "height": 176
        },
        "outputId": "32dc8028-7cf0-49ad-cbbd-a69655445a0e"
      },
      "source": [
        "print(len(Label))\n",
        "fp=pd.DataFrame(columns=['Image', 'X-Coordinate', 'Y-Coordinate','Weld_Area','Laser_Power','Image_Path'])\n",
        "\n",
        "#imageid_path_dict = {os.path.splitext(os.path.basename(x))[0]: x\n",
        "                     #for x in glob(os.path.join(base_skin_dir, '*', '*.png'))}\n",
        "\n",
        "fp['Image']=Images\n",
        "fp['X-Coordinate']=X_Cor\n",
        "fp['Y-Coordinate']=Y_Cor\n",
        "fp['Weld_Area']=W_Area\n",
        "fp['Laser_Power']=Label\n",
        "fp['Image_Path']=Img_Path\n",
        "\n",
        "print(fp.head())\n",
        "\n",
        "fp['Laser_Power'] = pd.get_dummies(fp['Laser_Power'])\n",
        "\n",
        "#Preparing test dataset\n",
        "\n",
        "fp.to_csv('Welding_Data_test.csv')"
      ],
      "execution_count": 17,
      "outputs": [
        {
          "output_type": "stream",
          "text": [
            "179\n",
            "     Image  X-Coordinate  ...  Laser_Power                                 Image_Path\n",
            "0  502.png           391  ...      Power_1  /content/drive/My Drive/test/Dat1/502.png\n",
            "1  507.png           377  ...      Power_1  /content/drive/My Drive/test/Dat1/507.png\n",
            "2  508.png           391  ...      Power_1  /content/drive/My Drive/test/Dat1/508.png\n",
            "3  509.png           375  ...      Power_1  /content/drive/My Drive/test/Dat1/509.png\n",
            "4  510.png           381  ...      Power_1  /content/drive/My Drive/test/Dat1/510.png\n",
            "\n",
            "[5 rows x 6 columns]\n"
          ],
          "name": "stdout"
        }
      ]
    }
  ]
}