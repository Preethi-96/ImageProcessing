{
  "nbformat": 4,
  "nbformat_minor": 0,
  "metadata": {
    "colab": {
      "name": "DatFile_Analysis",
      "provenance": [],
      "collapsed_sections": [],
      "authorship_tag": "ABX9TyMwNdOZKVpfYUBJ3rbWniGI",
      "include_colab_link": true
    },
    "kernelspec": {
      "name": "python3",
      "display_name": "Python 3"
    }
  },
  "cells": [
    {
      "cell_type": "markdown",
      "metadata": {
        "id": "view-in-github",
        "colab_type": "text"
      },
      "source": [
        "<a href=\"https://colab.research.google.com/github/Preethi-96/ImageProcessing/blob/master/DatFile_Analysis.ipynb\" target=\"_parent\"><img src=\"https://colab.research.google.com/assets/colab-badge.svg\" alt=\"Open In Colab\"/></a>"
      ]
    },
    {
      "cell_type": "code",
      "metadata": {
        "id": "jM8i0jbzVYSB",
        "colab_type": "code",
        "colab": {
          "base_uri": "https://localhost:8080/",
          "height": 34
        },
        "outputId": "a3926265-1d17-4223-c9b6-a7c41da09c8c"
      },
      "source": [
        "from keras.models import Sequential\n",
        "from keras.layers import Conv2D, MaxPooling2D\n",
        "from keras.layers import Activation, Dropout, Flatten, Dense\n",
        "from PIL import Image\n",
        "import numpy as np\n",
        "import cv2"
      ],
      "execution_count": null,
      "outputs": [
        {
          "output_type": "stream",
          "text": [
            "Using TensorFlow backend.\n"
          ],
          "name": "stderr"
        }
      ]
    },
    {
      "cell_type": "code",
      "metadata": {
        "id": "KJWy_9f8Clt0",
        "colab_type": "code",
        "colab": {}
      },
      "source": [
        ""
      ],
      "execution_count": null,
      "outputs": []
    },
    {
      "cell_type": "code",
      "metadata": {
        "id": "V_VZmBeFW8dZ",
        "colab_type": "code",
        "colab": {
          "base_uri": "https://localhost:8080/",
          "height": 139
        },
        "outputId": "39d858a3-f6bf-456e-a29f-79968a2a6996"
      },
      "source": [
        "model=Sequential()\n",
        "model.add(Conv2D(32,(5,5),input_shape=(480,640,3),))\n",
        "model.add(Activation('relu'))\n",
        "model.add(MaxPooling2D(pool_size=(2, 2),dim_ordering='tf'))\n",
        "\n",
        "model.add(Conv2D(32,(3,3),input_shape=(480,640,3)))\n",
        "model.add(Activation('relu'))\n",
        "model.add(MaxPooling2D(pool_size=(2, 2),dim_ordering='tf'))\n",
        "\n",
        "model.add(Conv2D(64,(3,3),input_shape=(480,640,3)))\n",
        "model.add(Activation('relu'))\n",
        "model.add(MaxPooling2D(pool_size=(2, 2),dim_ordering='tf'))\n",
        "\n",
        "model.add(Dense(64))\n",
        "model.add(Flatten())\n",
        "model.add(Dense(2))\n",
        "#model.add(Activation('sigmoid'))"
      ],
      "execution_count": null,
      "outputs": [
        {
          "output_type": "stream",
          "text": [
            "/usr/local/lib/python3.6/dist-packages/ipykernel_launcher.py:4: UserWarning: Update your `MaxPooling2D` call to the Keras 2 API: `MaxPooling2D(pool_size=(2, 2), data_format=\"channels_last\")`\n",
            "  after removing the cwd from sys.path.\n",
            "/usr/local/lib/python3.6/dist-packages/ipykernel_launcher.py:8: UserWarning: Update your `MaxPooling2D` call to the Keras 2 API: `MaxPooling2D(pool_size=(2, 2), data_format=\"channels_last\")`\n",
            "  \n",
            "/usr/local/lib/python3.6/dist-packages/ipykernel_launcher.py:12: UserWarning: Update your `MaxPooling2D` call to the Keras 2 API: `MaxPooling2D(pool_size=(2, 2), data_format=\"channels_last\")`\n",
            "  if sys.path[0] == '':\n"
          ],
          "name": "stderr"
        }
      ]
    },
    {
      "cell_type": "code",
      "metadata": {
        "id": "IV1G4uZbuXsU",
        "colab_type": "code",
        "colab": {}
      },
      "source": [
        "# model.add(Flatten())  # this converts our 3D feature maps to 1D feature vectors\n",
        "# model.add(Dense(64))\n",
        "# model.add(Activation('relu'))\n",
        "# model.add(Dropout(0.5))\n",
        "# model.add(Dense(1))\n",
        "# model.add(Activation('sigmoid'))\n",
        "\n",
        "# model.compile(loss='binary_crossentropy',\n",
        "#               optimizer='rmsprop',\n",
        "#               metrics=['accuracy'])"
      ],
      "execution_count": null,
      "outputs": []
    },
    {
      "cell_type": "code",
      "metadata": {
        "id": "jsNEzdtNaTGg",
        "colab_type": "code",
        "colab": {
          "base_uri": "https://localhost:8080/",
          "height": 122
        },
        "outputId": "115af076-69b5-4591-b197-464116f867a8"
      },
      "source": [
        "from google.colab import drive\n",
        "drive.mount('/content/drive')"
      ],
      "execution_count": null,
      "outputs": [
        {
          "output_type": "stream",
          "text": [
            "Go to this URL in a browser: https://accounts.google.com/o/oauth2/auth?client_id=947318989803-6bn6qk8qdgf4n4g3pfee6491hc0brc4i.apps.googleusercontent.com&redirect_uri=urn%3aietf%3awg%3aoauth%3a2.0%3aoob&response_type=code&scope=email%20https%3a%2f%2fwww.googleapis.com%2fauth%2fdocs.test%20https%3a%2f%2fwww.googleapis.com%2fauth%2fdrive%20https%3a%2f%2fwww.googleapis.com%2fauth%2fdrive.photos.readonly%20https%3a%2f%2fwww.googleapis.com%2fauth%2fpeopleapi.readonly\n",
            "\n",
            "Enter your authorization code:\n",
            "··········\n",
            "Mounted at /content/drive\n"
          ],
          "name": "stdout"
        }
      ]
    },
    {
      "cell_type": "code",
      "metadata": {
        "id": "GYNsAKeFsPZq",
        "colab_type": "code",
        "colab": {
          "base_uri": "https://localhost:8080/",
          "height": 34
        },
        "outputId": "36cb5f6c-a1e0-4b60-f053-c82ca96655be"
      },
      "source": [
        "import os\n",
        "os.chdir('/content/drive/My Drive')\n",
        "Filenames=os.listdir('/content/drive/My Drive/train')\n",
        "print(Filenames)\n"
      ],
      "execution_count": null,
      "outputs": [
        {
          "output_type": "stream",
          "text": [
            "['Dat3', 'Dat1']\n"
          ],
          "name": "stdout"
        }
      ]
    },
    {
      "cell_type": "code",
      "metadata": {
        "id": "gztZ9Vpaw_dy",
        "colab_type": "code",
        "colab": {
          "base_uri": "https://localhost:8080/",
          "height": 68
        },
        "outputId": "e5bfd1ce-1479-4c30-eef2-4f095a01e0f0"
      },
      "source": [
        "import os\n",
        "#os.chdir(r'D:\\Laser Polishing')\n",
        "\n",
        "batch_size=10\n",
        "\n",
        "train_path = r'/content/drive/My Drive/train'\n",
        "valid_path = r'/content/drive/My Drive/valid'\n",
        "test_path = r'/content/drive/My Drive/test'\n",
        "\n",
        "from tensorflow.keras.preprocessing.image import ImageDataGenerator\n",
        "import tensorflow as tf\n",
        "\n",
        "#testgen = ImageDataGenerator()\n",
        "\n",
        "\n",
        "train_batches = ImageDataGenerator(preprocessing_function=tf.keras.applications.vgg16.preprocess_input).flow_from_directory(directory=r'/content/drive/My Drive/train', target_size=(480,640), classes=['Dat1', 'Dat3'], batch_size=10)\n",
        "valid_batches = ImageDataGenerator(preprocessing_function=tf.keras.applications.vgg16.preprocess_input).flow_from_directory(directory=r'/content/drive/My Drive/valid', target_size=(480,640), classes=['Dat1', 'Dat3'], batch_size=10)\n",
        "test_batches = ImageDataGenerator(preprocessing_function=tf.keras.applications.vgg16.preprocess_input).flow_from_directory(directory=r'/content/drive/My Drive/test', target_size=(480,640), classes=['Dat1', 'Dat3'], batch_size=10, shuffle=False)\n"
      ],
      "execution_count": null,
      "outputs": [
        {
          "output_type": "stream",
          "text": [
            "Found 802 images belonging to 2 classes.\n",
            "Found 202 images belonging to 2 classes.\n",
            "Found 202 images belonging to 2 classes.\n"
          ],
          "name": "stdout"
        }
      ]
    },
    {
      "cell_type": "code",
      "metadata": {
        "id": "WJf1MB9QxHWj",
        "colab_type": "code",
        "colab": {
          "base_uri": "https://localhost:8080/",
          "height": 743
        },
        "outputId": "24d549b2-6d8f-45ff-8ace-b553654897b6"
      },
      "source": [
        " model.compile(loss='binary_crossentropy',\n",
        "               optimizer='rmsprop',\n",
        "               metrics=['binary_accuracy'])\n",
        "batch_size=10\n",
        "m=model.fit_generator(train_batches, steps_per_epoch=200//batch_size,epochs=5,validation_data=valid_batches,validation_steps=80//batch_size) \n",
        "\n",
        "\n",
        "import matplotlib.pyplot as plt\n",
        "def plot_history(history):\n",
        "    loss_list = [s for s in history.history.keys() if 'loss' in s and 'val' not in s]\n",
        "    val_loss_list = [s for s in history.history.keys() if 'loss' in s and 'val' in s]\n",
        "    acc_list = [s for s in history.history.keys() if 'acc' in s and 'val' not in s]\n",
        "    val_acc_list = [s for s in history.history.keys() if 'acc' in s and 'val' in s]\n",
        "    \n",
        "    if len(loss_list) == 0:\n",
        "        print('Loss is missing in history')\n",
        "        return \n",
        "    \n",
        "    ## As loss always exists\n",
        "    epochs = range(1,len(history.history[loss_list[0]]) + 1)\n",
        "    \n",
        "    ## Loss\n",
        "    plt.figure(1)\n",
        "    for l in loss_list:\n",
        "        plt.plot(epochs, history.history[l], 'b', label='Training loss (' + str(str(format(history.history[l][-1],'.5f'))+')'))\n",
        "    for l in val_loss_list:\n",
        "        plt.plot(epochs, history.history[l], 'g', label='Validation loss (' + str(str(format(history.history[l][-1],'.5f'))+')'))\n",
        "    \n",
        "    #plt.xlim(xmin=0)\n",
        "    plt.ylim(ymin=0)\n",
        "    plt.title('Loss')\n",
        "    plt.xlabel('Epochs')\n",
        "    plt.ylabel('Loss')\n",
        "    plt.legend()\n",
        "    \n",
        "    ## Accuracy\n",
        "    plt.figure(2)\n",
        "    for l in acc_list:\n",
        "        plt.plot(epochs, history.history[l], 'b', label='Training accuracy (' + str(format(history.history[l][-1],'.5f'))+')')\n",
        "    for l in val_acc_list:    \n",
        "        plt.plot(epochs, history.history[l], 'g', label='Validation accuracy (' + str(format(history.history[l][-1],'.5f'))+')')\n",
        "\n",
        "    #plt.ylim(0, 1)    \n",
        "    plt.title('Accuracy')\n",
        "    plt.xlabel('Epochs')\n",
        "    plt.ylabel('Accuracy')\n",
        "    plt.legend()\n",
        "    plt.show()\n",
        "#import above function and pass the parameter used while training    \n",
        "plot_history(m)    "
      ],
      "execution_count": null,
      "outputs": [
        {
          "output_type": "stream",
          "text": [
            "Epoch 1/5\n",
            "20/20 [==============================] - 101s 5s/step - loss: 6.9206 - binary_accuracy: 0.0000e+00 - val_loss: 9.2023 - val_binary_accuracy: 0.0000e+00\n",
            "Epoch 2/5\n",
            "20/20 [==============================] - 94s 5s/step - loss: 8.5354 - binary_accuracy: 0.0000e+00 - val_loss: 9.2023 - val_binary_accuracy: 0.0000e+00\n",
            "Epoch 3/5\n",
            "20/20 [==============================] - 90s 5s/step - loss: 7.7048 - binary_accuracy: 0.0000e+00 - val_loss: 6.1348 - val_binary_accuracy: 0.0000e+00\n",
            "Epoch 4/5\n",
            "20/20 [==============================] - 93s 5s/step - loss: 7.3051 - binary_accuracy: 0.0000e+00 - val_loss: 6.1348 - val_binary_accuracy: 0.0000e+00\n",
            "Epoch 5/5\n",
            "20/20 [==============================] - 94s 5s/step - loss: 7.9202 - binary_accuracy: 0.0000e+00 - val_loss: 10.7360 - val_binary_accuracy: 0.0000e+00\n"
          ],
          "name": "stdout"
        },
        {
          "output_type": "display_data",
          "data": {
            "image/png": "[encoded data removed]",
            "text/plain": [
              "<Figure size 432x288 with 1 Axes>"
            ]
          },
          "metadata": {
            "tags": [],
            "needs_background": "light"
          }
        },
        {
          "output_type": "display_data",
          "data": {
            "image/png": "[encoded data removed]",
            "text/plain": [
              "<Figure size 432x288 with 1 Axes>"
            ]
          },
          "metadata": {
            "tags": [],
            "needs_background": "light"
          }
        }
      ]
    },
    {
      "cell_type": "code",
      "metadata": {
        "id": "hyMJwVhtXvuV",
        "colab_type": "code",
        "colab": {
          "base_uri": "https://localhost:8080/",
          "height": 34
        },
        "outputId": "4c250ec0-450d-483a-b552-8f63d76e76b7"
      },
      "source": [
        "print(len(test_batches))\n",
        "predictions=model.predict_generator(test_batches, steps=80)"
      ],
      "execution_count": null,
      "outputs": [
        {
          "output_type": "stream",
          "text": [
            "21\n"
          ],
          "name": "stdout"
        }
      ]
    },
    {
      "cell_type": "code",
      "metadata": {
        "id": "TaOYGC3vpFCq",
        "colab_type": "code",
        "colab": {
          "base_uri": "https://localhost:8080/",
          "height": 136
        },
        "outputId": "3124cdbc-20c8-4114-9255-be89ca66fff1"
      },
      "source": [
        "print(predictions)\n",
        "predicted_class_indices = np.argmax(predictions,axis=1)"
      ],
      "execution_count": null,
      "outputs": [
        {
          "output_type": "stream",
          "text": [
            "[[-33.520947  20.275856]\n",
            " [-33.4652    19.282701]\n",
            " [-33.220722  20.423328]\n",
            " ...\n",
            " [-35.508766  19.878704]\n",
            " [-35.922703  21.739597]\n",
            " [-37.26724   20.649082]]\n"
          ],
          "name": "stdout"
        }
      ]
    }
  ]
}