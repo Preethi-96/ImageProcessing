{
  "nbformat": 4,
  "nbformat_minor": 0,
  "metadata": {
    "colab": {
      "name": "DatFile_Analysis",
      "provenance": [],
      "collapsed_sections": [],
      "authorship_tag": "ABX9TyP2OyGgjUJn1VokcynD916x",
      "include_colab_link": true
    },
    "kernelspec": {
      "name": "python3",
      "display_name": "Python 3"
    }
  },
  "cells": [
    {
      "cell_type": "markdown",
      "metadata": {
        "id": "view-in-github",
        "colab_type": "text"
      },
      "source": [
        "<a href=\"https://colab.research.google.com/github/Preethi-96/ImageProcessing/blob/master/DatFile_Analysis.ipynb\" target=\"_parent\"><img src=\"https://colab.research.google.com/assets/colab-badge.svg\" alt=\"Open In Colab\"/></a>"
      ]
    },
    {
      "cell_type": "code",
      "metadata": {
        "id": "jM8i0jbzVYSB",
        "colab_type": "code",
        "colab": {
          "base_uri": "https://localhost:8080/",
          "height": 35
        },
        "outputId": "36f20ba1-05b1-4201-8ae2-57cfc185b8bf"
      },
      "source": [
        "from keras.models import Sequential\n",
        "from keras.layers import Conv2D, MaxPooling2D\n",
        "from keras.layers import Activation, Dropout, Flatten, Dense\n",
        "from PIL import Image\n",
        "import numpy as np\n",
        "import cv2"
      ],
      "execution_count": 1,
      "outputs": [
        {
          "output_type": "stream",
          "text": [
            "Using TensorFlow backend.\n"
          ],
          "name": "stderr"
        }
      ]
    },
    {
      "cell_type": "code",
      "metadata": {
        "id": "KJWy_9f8Clt0",
        "colab_type": "code",
        "colab": {}
      },
      "source": [
        ""
      ],
      "execution_count": null,
      "outputs": []
    },
    {
      "cell_type": "code",
      "metadata": {
        "id": "V_VZmBeFW8dZ",
        "colab_type": "code",
        "colab": {
          "base_uri": "https://localhost:8080/",
          "height": 146
        },
        "outputId": "7b21e8c9-d914-4cbf-a2ab-7b0ca51acb43"
      },
      "source": [
        "model=Sequential()\n",
        "model.add(Conv2D(32,(5,5),input_shape=(480,640,3),))\n",
        "model.add(Activation('relu'))\n",
        "model.add(MaxPooling2D(pool_size=(2, 2),dim_ordering='tf'))\n",
        "\n",
        "model.add(Conv2D(32,(3,3),input_shape=(480,640,3)))\n",
        "model.add(Activation('relu'))\n",
        "model.add(MaxPooling2D(pool_size=(2, 2),dim_ordering='tf'))\n",
        "\n",
        "model.add(Conv2D(64,(3,3),input_shape=(480,640,3)))\n",
        "model.add(Activation('relu'))\n",
        "model.add(MaxPooling2D(pool_size=(2, 2),dim_ordering='tf'))\n",
        "\n",
        "model.add(Dense(64))\n",
        "model.add(Flatten())\n",
        "model.add(Dense(2))\n",
        "#model.add(Activation('sigmoid'))"
      ],
      "execution_count": 2,
      "outputs": [
        {
          "output_type": "stream",
          "text": [
            "/usr/local/lib/python3.6/dist-packages/ipykernel_launcher.py:4: UserWarning: Update your `MaxPooling2D` call to the Keras 2 API: `MaxPooling2D(pool_size=(2, 2), data_format=\"channels_last\")`\n",
            "  after removing the cwd from sys.path.\n",
            "/usr/local/lib/python3.6/dist-packages/ipykernel_launcher.py:8: UserWarning: Update your `MaxPooling2D` call to the Keras 2 API: `MaxPooling2D(pool_size=(2, 2), data_format=\"channels_last\")`\n",
            "  \n",
            "/usr/local/lib/python3.6/dist-packages/ipykernel_launcher.py:12: UserWarning: Update your `MaxPooling2D` call to the Keras 2 API: `MaxPooling2D(pool_size=(2, 2), data_format=\"channels_last\")`\n",
            "  if sys.path[0] == '':\n"
          ],
          "name": "stderr"
        }
      ]
    },
    {
      "cell_type": "code",
      "metadata": {
        "id": "IV1G4uZbuXsU",
        "colab_type": "code",
        "colab": {}
      },
      "source": [
        "# model.add(Flatten())  # this converts our 3D feature maps to 1D feature vectors\n",
        "# model.add(Dense(64))\n",
        "# model.add(Activation('relu'))\n",
        "# model.add(Dropout(0.5))\n",
        "# model.add(Dense(1))\n",
        "# model.add(Activation('sigmoid'))\n",
        "\n",
        "# model.compile(loss='binary_crossentropy',\n",
        "#               optimizer='rmsprop',\n",
        "#               metrics=['accuracy'])"
      ],
      "execution_count": null,
      "outputs": []
    },
    {
      "cell_type": "code",
      "metadata": {
        "id": "jsNEzdtNaTGg",
        "colab_type": "code",
        "colab": {
          "base_uri": "https://localhost:8080/",
          "height": 128
        },
        "outputId": "8e46ea06-dc51-4d26-a4ab-a876de5ae4c2"
      },
      "source": [
        "from google.colab import drive\n",
        "drive.mount('/content/drive')"
      ],
      "execution_count": 3,
      "outputs": [
        {
          "output_type": "stream",
          "text": [
            "Go to this URL in a browser: https://accounts.google.com/o/oauth2/auth?client_id=947318989803-6bn6qk8qdgf4n4g3pfee6491hc0brc4i.apps.googleusercontent.com&redirect_uri=urn%3aietf%3awg%3aoauth%3a2.0%3aoob&response_type=code&scope=email%20https%3a%2f%2fwww.googleapis.com%2fauth%2fdocs.test%20https%3a%2f%2fwww.googleapis.com%2fauth%2fdrive%20https%3a%2f%2fwww.googleapis.com%2fauth%2fdrive.photos.readonly%20https%3a%2f%2fwww.googleapis.com%2fauth%2fpeopleapi.readonly\n",
            "\n",
            "Enter your authorization code:\n",
            "··········\n",
            "Mounted at /content/drive\n"
          ],
          "name": "stdout"
        }
      ]
    },
    {
      "cell_type": "code",
      "metadata": {
        "id": "GYNsAKeFsPZq",
        "colab_type": "code",
        "colab": {
          "base_uri": "https://localhost:8080/",
          "height": 35
        },
        "outputId": "ec2411cf-9f22-47c1-9080-209d5cd16aaf"
      },
      "source": [
        "import os\n",
        "os.chdir('/content/drive/My Drive')\n",
        "Filenames=os.listdir('/content/drive/My Drive/train')\n",
        "print(Filenames)\n"
      ],
      "execution_count": 4,
      "outputs": [
        {
          "output_type": "stream",
          "text": [
            "['Dat3', 'Dat1']\n"
          ],
          "name": "stdout"
        }
      ]
    },
    {
      "cell_type": "code",
      "metadata": {
        "id": "gztZ9Vpaw_dy",
        "colab_type": "code",
        "colab": {
          "base_uri": "https://localhost:8080/",
          "height": 72
        },
        "outputId": "df08a16a-8ea5-4d89-84be-85294bd2e767"
      },
      "source": [
        "import os\n",
        "#os.chdir(r'D:\\Laser Polishing')\n",
        "\n",
        "batch_size=10\n",
        "\n",
        "train_path = r'/content/drive/My Drive/train'\n",
        "valid_path = r'/content/drive/My Drive/valid'\n",
        "test_path = r'/content/drive/My Drive/test'\n",
        "\n",
        "from tensorflow.keras.preprocessing.image import ImageDataGenerator\n",
        "import tensorflow as tf\n",
        "\n",
        "#testgen = ImageDataGenerator()\n",
        "\n",
        "\n",
        "train_batches = ImageDataGenerator(preprocessing_function=tf.keras.applications.vgg16.preprocess_input).flow_from_directory(directory=r'/content/drive/My Drive/train', target_size=(480,640), classes=['Dat1', 'Dat3'], class_mode='categorical', batch_size=10)\n",
        "valid_batches = ImageDataGenerator(preprocessing_function=tf.keras.applications.vgg16.preprocess_input).flow_from_directory(directory=r'/content/drive/My Drive/valid', target_size=(480,640), classes=['Dat1', 'Dat3'], class_mode='categorical', batch_size=10)\n",
        "test_batches = ImageDataGenerator(preprocessing_function=tf.keras.applications.vgg16.preprocess_input).flow_from_directory(directory=r'/content/drive/My Drive/test', target_size=(480,640), classes=['Dat1', 'Dat3'], class_mode='categorical', batch_size=10, shuffle=False)\n"
      ],
      "execution_count": 6,
      "outputs": [
        {
          "output_type": "stream",
          "text": [
            "Found 802 images belonging to 2 classes.\n",
            "Found 202 images belonging to 2 classes.\n",
            "Found 202 images belonging to 2 classes.\n"
          ],
          "name": "stdout"
        }
      ]
    },
    {
      "cell_type": "code",
      "metadata": {
        "id": "WJf1MB9QxHWj",
        "colab_type": "code",
        "colab": {
          "base_uri": "https://localhost:8080/",
          "height": 755
        },
        "outputId": "a0250d54-6725-41ac-f1c0-a88352314161"
      },
      "source": [
        " import keras\n",
        " \n",
        " model.compile(loss='categorical_crossentropy',\n",
        "               optimizer='rmsprop',\n",
        "               metrics=['accuracy'])\n",
        "batch_size=10\n",
        "m=model.fit_generator(train_batches, steps_per_epoch=200//batch_size,epochs=5,validation_data=valid_batches,validation_steps=80//batch_size)\n",
        "# callbacks=[\n",
        "#  keras.callbacks.EarlyStopping(patience=8, verbose=1, restore_best_weights=True),\n",
        "#  keras.callbacks.ReduceLROnPlateau(factor=.5, patience=3, verbose=1),\n",
        "#  ])\n",
        "\n",
        "import matplotlib.pyplot as plt\n",
        "def plot_history(history):\n",
        "    loss_list = [s for s in history.history.keys() if 'loss' in s and 'val' not in s]\n",
        "    val_loss_list = [s for s in history.history.keys() if 'loss' in s and 'val' in s]\n",
        "    acc_list = [s for s in history.history.keys() if 'acc' in s and 'val' not in s]\n",
        "    val_acc_list = [s for s in history.history.keys() if 'acc' in s and 'val' in s]\n",
        "    \n",
        "    if len(loss_list) == 0:\n",
        "        print('Loss is missing in history')\n",
        "        return \n",
        "    \n",
        "    ## As loss always exists\n",
        "    epochs = range(1,len(history.history[loss_list[0]]) + 1)\n",
        "    \n",
        "    ## Loss\n",
        "    plt.figure(1)\n",
        "    for l in loss_list:\n",
        "        plt.plot(epochs, history.history[l], 'b', label='Training loss (' + str(str(format(history.history[l][-1],'.5f'))+')'))\n",
        "    for l in val_loss_list:\n",
        "        plt.plot(epochs, history.history[l], 'g', label='Validation loss (' + str(str(format(history.history[l][-1],'.5f'))+')'))\n",
        "    \n",
        "    #plt.xlim(xmin=0)\n",
        "    plt.ylim(ymin=0)\n",
        "    plt.title('Loss')\n",
        "    plt.xlabel('Epochs')\n",
        "    plt.ylabel('Loss')\n",
        "    plt.legend()\n",
        "    \n",
        "    ## Accuracy\n",
        "    plt.figure(2)\n",
        "    for l in acc_list:\n",
        "        plt.plot(epochs, history.history[l], 'b', label='Training accuracy (' + str(format(history.history[l][-1],'.5f'))+')')\n",
        "    for l in val_acc_list:    \n",
        "        plt.plot(epochs, history.history[l], 'g', label='Validation accuracy (' + str(format(history.history[l][-1],'.5f'))+')')\n",
        "\n",
        "    #plt.ylim(0, 1)    \n",
        "    plt.title('Accuracy')\n",
        "    plt.xlabel('Epochs')\n",
        "    plt.ylabel('Accuracy')\n",
        "    plt.legend()\n",
        "    plt.show()\n",
        "#import above function and pass the parameter used while training    \n",
        "plot_history(m)    "
      ],
      "execution_count": 7,
      "outputs": [
        {
          "output_type": "stream",
          "text": [
            "Epoch 1/5\n",
            "20/20 [==============================] - 129s 6s/step - loss: 7.9785 - accuracy: 0.4950 - val_loss: 8.0590 - val_accuracy: 0.4750\n",
            "Epoch 2/5\n",
            "20/20 [==============================] - 106s 5s/step - loss: 7.8979 - accuracy: 0.4900 - val_loss: 6.4472 - val_accuracy: 0.5000\n",
            "Epoch 3/5\n",
            "20/20 [==============================] - 109s 5s/step - loss: 8.1398 - accuracy: 0.5052 - val_loss: 11.2827 - val_accuracy: 0.5833\n",
            "Epoch 4/5\n",
            "20/20 [==============================] - 117s 6s/step - loss: 8.3008 - accuracy: 0.5150 - val_loss: 4.8354 - val_accuracy: 0.4625\n",
            "Epoch 5/5\n",
            "20/20 [==============================] - 97s 5s/step - loss: 7.8979 - accuracy: 0.4900 - val_loss: 9.6709 - val_accuracy: 0.4875\n"
          ],
          "name": "stdout"
        },
        {
          "output_type": "display_data",
          "data": {
            "image/png": "[encoded data removed]",
            "text/plain": [
              "<Figure size 432x288 with 1 Axes>"
            ]
          },
          "metadata": {
            "tags": [],
            "needs_background": "light"
          }
        },
        {
          "output_type": "display_data",
          "data": {
            "image/png": "[encoded data removed]",
            "text/plain": [
              "<Figure size 432x288 with 1 Axes>"
            ]
          },
          "metadata": {
            "tags": [],
            "needs_background": "light"
          }
        }
      ]
    },
    {
      "cell_type": "code",
      "metadata": {
        "id": "hyMJwVhtXvuV",
        "colab_type": "code",
        "colab": {
          "base_uri": "https://localhost:8080/",
          "height": 35
        },
        "outputId": "1bd8465c-9090-4f2a-ce32-59fa1a6a9272"
      },
      "source": [
        "print(len(test_batches))\n",
        "predictions=model.predict_generator(test_batches, steps=80)"
      ],
      "execution_count": 8,
      "outputs": [
        {
          "output_type": "stream",
          "text": [
            "21\n"
          ],
          "name": "stdout"
        }
      ]
    },
    {
      "cell_type": "code",
      "metadata": {
        "id": "TaOYGC3vpFCq",
        "colab_type": "code",
        "colab": {
          "base_uri": "https://localhost:8080/",
          "height": 181
        },
        "outputId": "935dc1b3-eb17-4d12-a6b1-4e4e56d0ecd6"
      },
      "source": [
        "print(predictions)\n",
        "loss,accuracy = model.evaluate(test_batches,verbose=1)\n",
        "print(\"Test: accuracy = %f  ;  loss = %f\" % (accuracy, loss))\n",
        "predicted_class_indices = np.argmax(predictions,axis=1)"
      ],
      "execution_count": 11,
      "outputs": [
        {
          "output_type": "stream",
          "text": [
            "[[-32.071163  10.539564]\n",
            " [-30.862675   9.978192]\n",
            " [-31.845474  10.559528]\n",
            " ...\n",
            " [-27.41209   13.694968]\n",
            " [-27.626785  13.41432 ]\n",
            " [-28.497648  12.070815]]\n",
            "21/21 [==============================] - 26s 1s/step\n",
            "Test: accuracy = 0.500000  ;  loss = 16.118095\n"
          ],
          "name": "stdout"
        }
      ]
    }
  ]
}